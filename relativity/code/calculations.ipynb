{
 "cells": [
  {
   "cell_type": "markdown",
   "metadata": {},
   "source": [
    "# Calculations Related to Relativity Summary"
   ]
  },
  {
   "cell_type": "code",
   "execution_count": 1,
   "metadata": {},
   "outputs": [],
   "source": [
    "import numpy as np"
   ]
  },
  {
   "cell_type": "markdown",
   "metadata": {},
   "source": [
    "## Twin Paradox"
   ]
  },
  {
   "cell_type": "markdown",
   "metadata": {},
   "source": [
    "Problem description: what times do two clocks show to be elapsed between two events $S$ and $E$ if one of them goes in a straight line between them and the other one moves with some velocity away, turning around in an event $T$"
   ]
  },
  {
   "cell_type": "code",
   "execution_count": 2,
   "metadata": {},
   "outputs": [],
   "source": [
    "def t_lorentz(t, x, v):\n",
    "    return (t - v * x) / np.sqrt(1 - v**2)"
   ]
  },
  {
   "cell_type": "code",
   "execution_count": 3,
   "metadata": {},
   "outputs": [],
   "source": [
    "# Velocities in multiples of light speed c\n",
    "# vprime, vdoubleprime = 0.4, -0.2  # Interesting to see\n",
    "vprime, vdoubleprime = 0.5, -0.5  # Confirm numbers in example in summary\n",
    "v_prime_doubleprime = (-vprime + vdoubleprime) / (1 + (-vprime) * vdoubleprime)\n",
    "# Minus vprime needed because vdoubleprime is measured from unprimed to double\n",
    "# primed, but vprime is also measured from unprimed to primed. Should be from\n",
    "# primed to unprimed to make sense, though, which is why minus is needed"
   ]
  },
  {
   "cell_type": "markdown",
   "metadata": {},
   "source": [
    "Notable observations that can be confirmed:\n",
    "\n",
    "- for every observer, the time $\\tau_{SE}$ measured to elapse along the moving\n",
    "  clock is smaller than the time measured to elapse along the resting one.\n",
    "\n",
    "  This is a confirmation of the effect of time dilation, which is non-trivial\n",
    "  because in principle, the effect is mutual between inertial systems moving\n",
    "  relative to each other with some velocity.\n",
    "    \n",
    "- we set the x-coordinate of event $T$ such that the world line between $S$ and\n",
    "  $T$ is parallel to the time axis of the primed observer. Because of this, all\n",
    "  observers agree on the time $t'_{ST}$ (just as they do on $t_{SE}$). This has\n",
    "  a geometric reason: the lines of simultaneity are always parallel as well and\n",
    "  for this reason, they preserve the distance of events when projecting them\n",
    "  onto the time axis of the primed frame (which is parallel to the world line\n",
    "  that connects the events). This behaviour is independent of the velocity of\n",
    "  observers involved, i.e. the angle between the lines of simultaneity and\n",
    "  time axis of primed observer.\n",
    "\n",
    "  If $v'' = -v'$, the same will be true for the time $t''_{TE}$. In this case,\n",
    "  all observers agree on the time elapsed along the moving clock because this\n",
    "  is given by $\\tau_{SE} = \\tau_{ST} + \\tau_{TE} = t'_{ST} + t''_{TE}$. We note\n",
    "  again that all observers agree on the time elapsed along the resting clock,\n",
    "  no matter which values $v'$ and $v''$ have."
   ]
  },
  {
   "cell_type": "markdown",
   "metadata": {},
   "source": [
    "### From unprimed coordinates"
   ]
  },
  {
   "cell_type": "code",
   "execution_count": 4,
   "metadata": {},
   "outputs": [],
   "source": [
    "t_ST = 2\n",
    "t_TE = 2\n",
    "t_SE = t_ST + t_TE"
   ]
  },
  {
   "cell_type": "code",
   "execution_count": 5,
   "metadata": {},
   "outputs": [
    {
     "name": "stdout",
     "output_type": "stream",
     "text": [
      "\n",
      "t_SE = 4.000\n",
      "\n",
      "t'_SE = sqrt(1 - v'^2) t_SE = 3.464\n",
      "t''_SE = sqrt(1 - v''^2) t_SE = 3.464\n",
      "\n",
      "t_ST = 2.000\n",
      "t'_ST = sqrt(1 - v'^2) t_ST = 1.732\n",
      "t''_ST = sqrt(1 - v''^2) t_ST = 1.732\n",
      "\n",
      "t_TE = 2.000\n",
      "t'_TE = sqrt(1 - v^2) t_TE = 1.732\n",
      "t''_TE = sqrt(1 - v''^2) t_TE = 1.732\n",
      "\n",
      "tau_SE = t'_ST + t''_TE = 3.464\n",
      "\n"
     ]
    }
   ],
   "source": [
    "print(f'''\n",
    "t_SE = {t_SE:.3f}\\n\n",
    "t'_SE = sqrt(1 - v'^2) t_SE = {np.sqrt(1 - vprime**2) * t_SE:.3f}\n",
    "t''_SE = sqrt(1 - v''^2) t_SE = {np.sqrt(1 - vdoubleprime**2) * t_SE:.3f}\n",
    "\n",
    "t_ST = {t_ST:.3f}\n",
    "t'_ST = sqrt(1 - v'^2) t_ST = {np.sqrt(1 - vprime**2) * t_ST:.3f}\n",
    "t''_ST = sqrt(1 - v''^2) t_ST = {np.sqrt(1 - vdoubleprime**2) * t_ST:.3f}\n",
    "\n",
    "t_TE = {t_TE:.3f}\n",
    "t'_TE = sqrt(1 - v^2) t_TE = {np.sqrt(1 - vprime**2) * t_TE:.3f}\n",
    "t''_TE = sqrt(1 - v''^2) t_TE = {np.sqrt(1 - vdoubleprime**2) * t_TE:.3f}\n",
    "\n",
    "tau_SE = t'_ST + t''_TE = {np.sqrt(1 - vprime**2) * t_ST + np.sqrt(1 - vdoubleprime**2) * t_TE:.3f}\n",
    "''')"
   ]
  },
  {
   "cell_type": "markdown",
   "metadata": {},
   "source": [
    "### From primed coordinates"
   ]
  },
  {
   "cell_type": "code",
   "execution_count": 6,
   "metadata": {},
   "outputs": [],
   "source": [
    "x_T = t_ST * vprime  # Set x-value such that movement on first worldline is parallel to primed coordinate system\n",
    "\n",
    "tprime_ST = t_lorentz(t=0, x=x_T, v=vprime) - t_lorentz(t=-2, x=0, v=vprime)\n",
    "# tprime_ST = t_lorentz(t=2, x=x_T, v=vprime) - t_lorentz(t=0, x=0, v=vprime)  # Translation in time does not change result\n",
    "tprime_TE = t_lorentz(t=2, x=0, v=vprime) - t_lorentz(t=0, x=x_T, v=vprime)\n",
    "tprime_SE = tprime_ST + tprime_TE"
   ]
  },
  {
   "cell_type": "code",
   "execution_count": 7,
   "metadata": {},
   "outputs": [
    {
     "name": "stdout",
     "output_type": "stream",
     "text": [
      "\n",
      "t'_SE = 4.619\n",
      "\n",
      "t_SE = sqrt(1 - (-v')^2) t'_SE = 4.000\n",
      "t''_SE = sqrt(1 - v''^2) t'_SE = 2.771\n",
      "\n",
      "t'_ST = 1.732\n",
      "t_ST = sqrt(1 - (-v')^2) t'_ST = 1.500\n",
      "t''_ST = sqrt(1 - v_2^2) t'_ST = 1.039\n",
      "\n",
      "t'_TE = 2.887\n",
      "t_TE = sqrt(1 - (-v')^2) t'_TE = 2.500\n",
      "t''_TE = sqrt(1 - v_2^2) t'_TE = 1.732\n",
      "\n",
      "tau_SE = t'_ST + t''_TE = 3.464\n",
      "\n"
     ]
    }
   ],
   "source": [
    "print(f'''\n",
    "t'_SE = {tprime_SE:.3f}\\n\n",
    "t_SE = sqrt(1 - (-v')^2) t'_SE = {np.sqrt(1 - (-vprime)**2) * tprime_SE:.3f}\n",
    "t''_SE = sqrt(1 - v''^2) t'_SE = {np.sqrt(1 - v_prime_doubleprime**2) * tprime_SE:.3f}\n",
    "\n",
    "t'_ST = {tprime_ST:.3f}\n",
    "t_ST = sqrt(1 - (-v')^2) t'_ST = {np.sqrt(1 - (-vprime)**2) * tprime_ST:.3f}\n",
    "t''_ST = sqrt(1 - v_2^2) t'_ST = {np.sqrt(1 - v_prime_doubleprime**2) * tprime_ST:.3f}\n",
    "\n",
    "t'_TE = {tprime_TE:.3f}\n",
    "t_TE = sqrt(1 - (-v')^2) t'_TE = {np.sqrt(1 - (-vprime)**2) * tprime_TE:.3f}\n",
    "t''_TE = sqrt(1 - v_2^2) t'_TE = {np.sqrt(1 - v_prime_doubleprime**2) * tprime_TE:.3f}\n",
    "\n",
    "tau_SE = t'_ST + t''_TE = {tprime_ST + np.sqrt(1 - v_prime_doubleprime**2) * tprime_TE:.3f}\n",
    "''')"
   ]
  },
  {
   "cell_type": "markdown",
   "metadata": {},
   "source": [
    "### From double primed coordinates"
   ]
  },
  {
   "cell_type": "code",
   "execution_count": 8,
   "metadata": {},
   "outputs": [],
   "source": [
    "tdoubleprime_ST = t_lorentz(t=0, x=x_T, v=vdoubleprime) - t_lorentz(t=-2, x=0, v=vdoubleprime)\n",
    "tdoubleprime_TE = t_lorentz(t=2, x=0, v=vdoubleprime) - t_lorentz(t=0, x=x_T, v=vdoubleprime)\n",
    "tdoubleprime_SE = tdoubleprime_ST + tdoubleprime_TE"
   ]
  },
  {
   "cell_type": "code",
   "execution_count": 9,
   "metadata": {},
   "outputs": [
    {
     "name": "stdout",
     "output_type": "stream",
     "text": [
      "\n",
      "t''_SE = 4.619\n",
      "\n",
      "t_SE = sqrt(1 - v''^2) t''_SE = 4.000\n",
      "t'_SE = sqrt(1 - (-v_2)^2) t''_SE = 2.771\n",
      "\n",
      "t''_ST = 1.732\n",
      "t_ST = sqrt(1 - v''^2) t''_ST = 2.500\n",
      "t'_ST = sqrt(1 - (-v_2)^2) t''_ST = 1.732\n",
      "\n",
      "t''_TE = 2.887\n",
      "t_TE = sqrt(1 - v''^2) t''_TE = 1.500\n",
      "t'_TE = sqrt(1 - (-v_2)^2) t''_TE = 1.039\n",
      "\n",
      "tau_SE = t'_ST + t''_TE = 3.464\n",
      "\n"
     ]
    }
   ],
   "source": [
    "print(f'''\n",
    "t''_SE = {tdoubleprime_SE:.3f}\\n\n",
    "t_SE = sqrt(1 - v''^2) t''_SE = {np.sqrt(1 - vdoubleprime**2) * tdoubleprime_SE:.3f}\n",
    "t'_SE = sqrt(1 - (-v_2)^2) t''_SE = {np.sqrt(1 - (-v_prime_doubleprime)**2) * tdoubleprime_SE:.3f}\n",
    "\n",
    "t''_ST = {tprime_ST:.3f}\n",
    "t_ST = sqrt(1 - v''^2) t''_ST = {np.sqrt(1 - vdoubleprime**2) * tdoubleprime_ST:.3f}\n",
    "t'_ST = sqrt(1 - (-v_2)^2) t''_ST = {np.sqrt(1 - (-v_prime_doubleprime)**2) * tdoubleprime_ST:.3f}\n",
    "\n",
    "t''_TE = {tprime_TE:.3f}\n",
    "t_TE = sqrt(1 - v''^2) t''_TE = {np.sqrt(1 - vdoubleprime**2) * tdoubleprime_TE:.3f}\n",
    "t'_TE = sqrt(1 - (-v_2)^2) t''_TE = {np.sqrt(1 - (-v_prime_doubleprime)**2) * tdoubleprime_TE:.3f}\n",
    "\n",
    "tau_SE = t'_ST + t''_TE = {np.sqrt(1 - (-v_prime_doubleprime)**2) * tdoubleprime_ST + tdoubleprime_TE:.3f}\n",
    "''')"
   ]
  }
 ],
 "metadata": {
  "kernelspec": {
   "display_name": "base",
   "language": "python",
   "name": "python3"
  },
  "language_info": {
   "codemirror_mode": {
    "name": "ipython",
    "version": 3
   },
   "file_extension": ".py",
   "mimetype": "text/x-python",
   "name": "python",
   "nbconvert_exporter": "python",
   "pygments_lexer": "ipython3",
   "version": "3.10.9"
  }
 },
 "nbformat": 4,
 "nbformat_minor": 2
}
