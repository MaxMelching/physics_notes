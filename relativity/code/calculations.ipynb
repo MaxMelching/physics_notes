{
 "cells": [
  {
   "cell_type": "markdown",
   "metadata": {},
   "source": [
    "# Calculations Related to Relativity Summary"
   ]
  },
  {
   "cell_type": "code",
   "execution_count": 1,
   "metadata": {},
   "outputs": [],
   "source": [
    "import numpy as np\n",
    "import pandas as pd"
   ]
  },
  {
   "cell_type": "markdown",
   "metadata": {},
   "source": [
    "## Twin Paradox"
   ]
  },
  {
   "cell_type": "markdown",
   "metadata": {},
   "source": [
    "Problem description: what times do two clocks show to be elapsed between two events $S$ and $E$ if one of them goes in a straight line between them and the other one moves with some velocity away, turning around in an event $T$"
   ]
  },
  {
   "cell_type": "code",
   "execution_count": 2,
   "metadata": {},
   "outputs": [],
   "source": [
    "def t_lorentz(t, x, v):\n",
    "    return (t - v * x) / np.sqrt(1 - v**2)"
   ]
  },
  {
   "cell_type": "code",
   "execution_count": 3,
   "metadata": {},
   "outputs": [],
   "source": [
    "# Velocities in multiples of light speed c\n",
    "vprime, vdoubleprime = 0.5, -0.5  # Confirm numbers in example in summary\n",
    "v_prime_doubleprime = (-vprime + vdoubleprime) / (1 + (-vprime) * vdoubleprime)\n",
    "# Minus vprime needed because vdoubleprime is measured from unprimed to double\n",
    "# primed, but vprime is also measured from unprimed to primed. Should be from\n",
    "# primed to unprimed to make sense, though, which is why minus is needed\n",
    "\n",
    "\n",
    "# Example of other velocities:\n",
    "# vprime, vdoubleprime = 0.4, -0.2  # Interesting to see\n",
    "# v_prime_doubleprime = (-vprime + vdoubleprime) / (1 + (-vprime) * vdoubleprime)\n",
    "\n",
    "\n",
    "# Set event coordinates -> symmetric setup from example in summary\n",
    "t_S, x_S = -2, 0\n",
    "t_T, x_T = 0, 1\n",
    "# To ensure first observer parallel to first part of world line,\n",
    "# set x_T = vprime * (t_T - t_S). This will lead to same result for t'_ST\n",
    "# for all observers.\n",
    "t_E, x_E = 2, 0\n",
    "\n",
    "\n",
    "# Compute time differences\n",
    "t_ST, t_TE, t_SE = t_T - t_S, t_E - t_T, t_E - t_S\n",
    "\n",
    "# Optional: set coordinates such that both parts of worldline are parallel to\n",
    "# one of the observers\n",
    "# x_T = t_ST * vprime  # Set x-value such that movement on first worldline is parallel to primed coordinate system\n",
    "# x_E = x_T + t_TE * vdoubleprime\n",
    "# assert((x_T - x_S) / (t_ST) == vprime)  # Verify primed observer indeed parallel to first part of world line\n",
    "# assert((x_E - x_T) / (t_TE) == vdoubleprime)  # Verify double primed observer indeed parallel to second part of world line"
   ]
  },
  {
   "cell_type": "markdown",
   "metadata": {},
   "source": [
    "Notable observations that can be confirmed:\n",
    "\n",
    "- for every observer, the time $\\tau_{SE}$ measured to elapse along the moving\n",
    "  clock is smaller than the time measured to elapse along the resting one.\n",
    "\n",
    "  This is a confirmation of the effect of time dilation, which is non-trivial\n",
    "  because in principle, the effect is mutual between inertial systems moving\n",
    "  relative to each other with some velocity.\n",
    "    \n",
    "- we set the x-coordinate of event $T$ such that the world line between $S$ and\n",
    "  $T$ is parallel to the time axis of the primed observer. Because of this, all\n",
    "  observers agree on the time $t'_{ST}$ (just as they do on $t_{SE}$). This has\n",
    "  a geometric reason: the lines of simultaneity are always parallel as well and\n",
    "  for this reason, they preserve the distance of events when projecting them\n",
    "  onto the time axis of the primed frame (which is parallel to the world line\n",
    "  that connects the events). This behaviour is independent of the velocity of\n",
    "  observers involved, i.e. the angle between the lines of simultaneity and\n",
    "  time axis of primed observer.\n",
    "\n",
    "  If $v'' = -v'$, the same will be true for the time $t''_{TE}$. In this case,\n",
    "  all observers agree on the time elapsed along the moving clock because this\n",
    "  is given by $\\tau_{SE} = \\tau_{ST} + \\tau_{TE} = t'_{ST} + t''_{TE}$. We note\n",
    "  again that all observers agree on the time elapsed along the resting clock,\n",
    "  no matter which values $v'$ and $v''$ have.\n",
    "\n",
    "  To achieve this equality in general, one has to choose specific event\n",
    "  coordinates. In particular,\n",
    "  $$v' \\cdot t_{ST} \\overset{!}{=} -v'' \\cdot t_{TE}$$\n",
    "  because only in this case, $x_E = x_S$ (which is important to make\n",
    "  trajectory of first clock rest in unprimed frame). Assuming fixed $t_S, t_T$\n",
    "  one can achieve this by setting `t_TE = t_ST * vprime / (-vdoubleprime)`."
   ]
  },
  {
   "cell_type": "code",
   "execution_count": 4,
   "metadata": {},
   "outputs": [],
   "source": [
    "# Initialize frame to store all results -> convenient display at end\n",
    "times = pd.DataFrame([], index=[\"t_ST\", \"t'_ST\", \"t''_ST\", \"t_TE\", \"t'_TE\", \"t''_TE\", \"t_SE\", \"t'_SE\", \"t''_SE\", \"tau_SE\"], columns=['Unprimed Coordinates', 'Primed Coordinates', 'Double Primed Coordinates'])"
   ]
  },
  {
   "cell_type": "markdown",
   "metadata": {},
   "source": [
    "### From unprimed coordinates"
   ]
  },
  {
   "cell_type": "code",
   "execution_count": 5,
   "metadata": {},
   "outputs": [
    {
     "name": "stdout",
     "output_type": "stream",
     "text": [
      "\n",
      "t_SE = 4.000\n",
      "\n",
      "t'_SE = sqrt(1 - v'^2) t_SE = 3.464\n",
      "t''_SE = sqrt(1 - v''^2) t_SE = 3.464\n",
      "\n",
      "t_ST = 2.000\n",
      "t'_ST = sqrt(1 - v'^2) t_ST = 1.732\n",
      "t''_ST = sqrt(1 - v''^2) t_ST = 1.732\n",
      "\n",
      "t_TE = 2.000\n",
      "t'_TE = sqrt(1 - v'^2) t_TE = 1.732\n",
      "t''_TE = sqrt(1 - v''^2) t_TE = 1.732\n",
      "\n",
      "tau_SE = t'_ST + t''_TE = 3.464\n",
      "\n"
     ]
    }
   ],
   "source": [
    "print(f'''\n",
    "t_SE = {t_SE:.3f}\\n\n",
    "t'_SE = sqrt(1 - v'^2) t_SE = {np.sqrt(1 - vprime**2) * t_SE:.3f}\n",
    "t''_SE = sqrt(1 - v''^2) t_SE = {np.sqrt(1 - vdoubleprime**2) * t_SE:.3f}\n",
    "\n",
    "t_ST = {t_ST:.3f}\n",
    "t'_ST = sqrt(1 - v'^2) t_ST = {np.sqrt(1 - vprime**2) * t_ST:.3f}\n",
    "t''_ST = sqrt(1 - v''^2) t_ST = {np.sqrt(1 - vdoubleprime**2) * t_ST:.3f}\n",
    "\n",
    "t_TE = {t_TE:.3f}\n",
    "t'_TE = sqrt(1 - v'^2) t_TE = {np.sqrt(1 - vprime**2) * t_TE:.3f}\n",
    "t''_TE = sqrt(1 - v''^2) t_TE = {np.sqrt(1 - vdoubleprime**2) * t_TE:.3f}\n",
    "\n",
    "tau_SE = t'_ST + t''_TE = {np.sqrt(1 - vprime**2) * t_ST + np.sqrt(1 - vdoubleprime**2) * t_TE:.3f}\n",
    "''')"
   ]
  },
  {
   "cell_type": "code",
   "execution_count": 6,
   "metadata": {},
   "outputs": [],
   "source": [
    "times['Unprimed Coordinates'] = [\n",
    "    t_ST, np.sqrt(1 - vprime**2) * t_ST, np.sqrt(1 - vdoubleprime**2) * t_ST,\n",
    "    t_TE, np.sqrt(1 - vprime**2) * t_TE, np.sqrt(1 - vdoubleprime**2) * t_TE,\n",
    "    t_SE, np.sqrt(1 - vprime**2) * t_SE, np.sqrt(1 - vdoubleprime**2) * t_SE,\n",
    "    np.sqrt(1 - vprime**2) * t_ST + np.sqrt(1 - vdoubleprime**2) * t_TE\n",
    "    ]"
   ]
  },
  {
   "cell_type": "markdown",
   "metadata": {},
   "source": [
    "### From primed coordinates"
   ]
  },
  {
   "cell_type": "code",
   "execution_count": 7,
   "metadata": {},
   "outputs": [],
   "source": [
    "tprime_ST = t_lorentz(t=t_T, x=x_T, v=vprime) - t_lorentz(t=t_S, x=x_S, v=vprime)\n",
    "tprime_TE = t_lorentz(t=t_E, x=x_E, v=vprime) - t_lorentz(t=t_T, x=x_T, v=vprime)\n",
    "tprime_SE = tprime_ST + tprime_TE"
   ]
  },
  {
   "cell_type": "code",
   "execution_count": 8,
   "metadata": {},
   "outputs": [
    {
     "name": "stdout",
     "output_type": "stream",
     "text": [
      "\n",
      "t'_SE = 4.619\n",
      "\n",
      "t_SE = sqrt(1 - (-v')^2) t'_SE = 4.000\n",
      "t''_SE = sqrt(1 - v''^2) t'_SE = 2.771\n",
      "\n",
      "t'_ST = 1.732\n",
      "t_ST = sqrt(1 - (-v')^2) t'_ST = 1.500\n",
      "t''_ST = sqrt(1 - v_2^2) t'_ST = 1.039\n",
      "\n",
      "t'_TE = 2.887\n",
      "t_TE = sqrt(1 - (-v')^2) t'_TE = 2.500\n",
      "t''_TE = sqrt(1 - v_2^2) t'_TE = 1.732\n",
      "\n",
      "tau_SE = t'_ST + t''_TE = 3.464\n",
      "\n"
     ]
    }
   ],
   "source": [
    "print(f'''\n",
    "t'_SE = {tprime_SE:.3f}\\n\n",
    "t_SE = sqrt(1 - (-v')^2) t'_SE = {np.sqrt(1 - (-vprime)**2) * tprime_SE:.3f}\n",
    "t''_SE = sqrt(1 - v''^2) t'_SE = {np.sqrt(1 - v_prime_doubleprime**2) * tprime_SE:.3f}\n",
    "\n",
    "t'_ST = {tprime_ST:.3f}\n",
    "t_ST = sqrt(1 - (-v')^2) t'_ST = {np.sqrt(1 - (-vprime)**2) * tprime_ST:.3f}\n",
    "t''_ST = sqrt(1 - v_2^2) t'_ST = {np.sqrt(1 - v_prime_doubleprime**2) * tprime_ST:.3f}\n",
    "\n",
    "t'_TE = {tprime_TE:.3f}\n",
    "t_TE = sqrt(1 - (-v')^2) t'_TE = {np.sqrt(1 - (-vprime)**2) * tprime_TE:.3f}\n",
    "t''_TE = sqrt(1 - v_2^2) t'_TE = {np.sqrt(1 - v_prime_doubleprime**2) * tprime_TE:.3f}\n",
    "\n",
    "tau_SE = t'_ST + t''_TE = {tprime_ST + np.sqrt(1 - v_prime_doubleprime**2) * tprime_TE:.3f}\n",
    "''')"
   ]
  },
  {
   "cell_type": "code",
   "execution_count": 9,
   "metadata": {},
   "outputs": [],
   "source": [
    "times['Primed Coordinates'] = [\n",
    "    np.sqrt(1 - (-vprime)**2) * tprime_ST, tprime_ST, np.sqrt(1 - v_prime_doubleprime**2) * tprime_ST,\n",
    "    np.sqrt(1 - (-vprime)**2) * tprime_TE, tprime_TE, np.sqrt(1 - v_prime_doubleprime**2) * tprime_TE,\n",
    "    np.sqrt(1 - (-vprime)**2) * tprime_SE, tprime_SE, np.sqrt(1 - v_prime_doubleprime**2) * tprime_SE,\n",
    "    tprime_ST + np.sqrt(1 - v_prime_doubleprime**2) * tprime_TE\n",
    "]"
   ]
  },
  {
   "cell_type": "markdown",
   "metadata": {},
   "source": [
    "### From double primed coordinates"
   ]
  },
  {
   "cell_type": "code",
   "execution_count": 10,
   "metadata": {},
   "outputs": [],
   "source": [
    "tdoubleprime_ST = t_lorentz(t=t_T, x=x_T, v=vdoubleprime) - t_lorentz(t=t_S, x=x_S, v=vdoubleprime)\n",
    "tdoubleprime_TE = t_lorentz(t=t_E, x=x_E, v=vdoubleprime) - t_lorentz(t=t_T, x=x_T, v=vdoubleprime)\n",
    "tdoubleprime_SE = tdoubleprime_ST + tdoubleprime_TE"
   ]
  },
  {
   "cell_type": "code",
   "execution_count": 11,
   "metadata": {},
   "outputs": [
    {
     "name": "stdout",
     "output_type": "stream",
     "text": [
      "\n",
      "t''_SE = 4.619\n",
      "\n",
      "t_SE = sqrt(1 - v''^2) t''_SE = 4.000\n",
      "t'_SE = sqrt(1 - (-v_2)^2) t''_SE = 2.771\n",
      "\n",
      "t''_ST = 2.887\n",
      "t_ST = sqrt(1 - v''^2) t''_ST = 2.500\n",
      "t'_ST = sqrt(1 - (-v_2)^2) t''_ST = 1.732\n",
      "\n",
      "t''_TE = 1.732\n",
      "t_TE = sqrt(1 - v''^2) t''_TE = 1.500\n",
      "t'_TE = sqrt(1 - (-v_2)^2) t''_TE = 1.039\n",
      "\n",
      "tau_SE = t'_ST + t''_TE = 3.464\n",
      "\n"
     ]
    }
   ],
   "source": [
    "print(f'''\n",
    "t''_SE = {tdoubleprime_SE:.3f}\\n\n",
    "t_SE = sqrt(1 - v''^2) t''_SE = {np.sqrt(1 - vdoubleprime**2) * tdoubleprime_SE:.3f}\n",
    "t'_SE = sqrt(1 - (-v_2)^2) t''_SE = {np.sqrt(1 - (-v_prime_doubleprime)**2) * tdoubleprime_SE:.3f}\n",
    "\n",
    "t''_ST = {tdoubleprime_ST:.3f}\n",
    "t_ST = sqrt(1 - v''^2) t''_ST = {np.sqrt(1 - vdoubleprime**2) * tdoubleprime_ST:.3f}\n",
    "t'_ST = sqrt(1 - (-v_2)^2) t''_ST = {np.sqrt(1 - (-v_prime_doubleprime)**2) * tdoubleprime_ST:.3f}\n",
    "\n",
    "t''_TE = {tdoubleprime_TE:.3f}\n",
    "t_TE = sqrt(1 - v''^2) t''_TE = {np.sqrt(1 - vdoubleprime**2) * tdoubleprime_TE:.3f}\n",
    "t'_TE = sqrt(1 - (-v_2)^2) t''_TE = {np.sqrt(1 - (-v_prime_doubleprime)**2) * tdoubleprime_TE:.3f}\n",
    "\n",
    "tau_SE = t'_ST + t''_TE = {np.sqrt(1 - (-v_prime_doubleprime)**2) * tdoubleprime_ST + tdoubleprime_TE:.3f}\n",
    "''')"
   ]
  },
  {
   "cell_type": "code",
   "execution_count": 12,
   "metadata": {},
   "outputs": [],
   "source": [
    "times['Double Primed Coordinates'] = [\n",
    "    np.sqrt(1 - vdoubleprime**2) * tdoubleprime_ST, np.sqrt(1 - (-v_prime_doubleprime)**2) * tdoubleprime_ST, tdoubleprime_ST,\n",
    "    np.sqrt(1 - vdoubleprime**2) * tdoubleprime_TE, np.sqrt(1 - (-v_prime_doubleprime)**2) * tdoubleprime_TE, tdoubleprime_TE,\n",
    "    np.sqrt(1 - vdoubleprime**2) * tdoubleprime_SE, np.sqrt(1 - (-v_prime_doubleprime)**2) * tdoubleprime_SE, tdoubleprime_SE,\n",
    "    np.sqrt(1 - (-v_prime_doubleprime)**2) * tdoubleprime_ST + tdoubleprime_TE\n",
    "]"
   ]
  },
  {
   "cell_type": "markdown",
   "metadata": {},
   "source": [
    "### Printing Data Frame"
   ]
  },
  {
   "cell_type": "code",
   "execution_count": 13,
   "metadata": {},
   "outputs": [
    {
     "data": {
      "text/html": [
       "<div>\n",
       "<style scoped>\n",
       "    .dataframe tbody tr th:only-of-type {\n",
       "        vertical-align: middle;\n",
       "    }\n",
       "\n",
       "    .dataframe tbody tr th {\n",
       "        vertical-align: top;\n",
       "    }\n",
       "\n",
       "    .dataframe thead th {\n",
       "        text-align: right;\n",
       "    }\n",
       "</style>\n",
       "<table border=\"1\" class=\"dataframe\">\n",
       "  <thead>\n",
       "    <tr style=\"text-align: right;\">\n",
       "      <th></th>\n",
       "      <th>Unprimed Coordinates</th>\n",
       "      <th>Primed Coordinates</th>\n",
       "      <th>Double Primed Coordinates</th>\n",
       "    </tr>\n",
       "  </thead>\n",
       "  <tbody>\n",
       "    <tr>\n",
       "      <th>t_ST</th>\n",
       "      <td>2.000000</td>\n",
       "      <td>1.500000</td>\n",
       "      <td>2.500000</td>\n",
       "    </tr>\n",
       "    <tr>\n",
       "      <th>t'_ST</th>\n",
       "      <td>1.732051</td>\n",
       "      <td>1.732051</td>\n",
       "      <td>1.732051</td>\n",
       "    </tr>\n",
       "    <tr>\n",
       "      <th>t''_ST</th>\n",
       "      <td>1.732051</td>\n",
       "      <td>1.039230</td>\n",
       "      <td>2.886751</td>\n",
       "    </tr>\n",
       "    <tr>\n",
       "      <th>t_TE</th>\n",
       "      <td>2.000000</td>\n",
       "      <td>2.500000</td>\n",
       "      <td>1.500000</td>\n",
       "    </tr>\n",
       "    <tr>\n",
       "      <th>t'_TE</th>\n",
       "      <td>1.732051</td>\n",
       "      <td>2.886751</td>\n",
       "      <td>1.039230</td>\n",
       "    </tr>\n",
       "    <tr>\n",
       "      <th>t''_TE</th>\n",
       "      <td>1.732051</td>\n",
       "      <td>1.732051</td>\n",
       "      <td>1.732051</td>\n",
       "    </tr>\n",
       "    <tr>\n",
       "      <th>t_SE</th>\n",
       "      <td>4.000000</td>\n",
       "      <td>4.000000</td>\n",
       "      <td>4.000000</td>\n",
       "    </tr>\n",
       "    <tr>\n",
       "      <th>t'_SE</th>\n",
       "      <td>3.464102</td>\n",
       "      <td>4.618802</td>\n",
       "      <td>2.771281</td>\n",
       "    </tr>\n",
       "    <tr>\n",
       "      <th>t''_SE</th>\n",
       "      <td>3.464102</td>\n",
       "      <td>2.771281</td>\n",
       "      <td>4.618802</td>\n",
       "    </tr>\n",
       "    <tr>\n",
       "      <th>tau_SE</th>\n",
       "      <td>3.464102</td>\n",
       "      <td>3.464102</td>\n",
       "      <td>3.464102</td>\n",
       "    </tr>\n",
       "  </tbody>\n",
       "</table>\n",
       "</div>"
      ],
      "text/plain": [
       "        Unprimed Coordinates  Primed Coordinates  Double Primed Coordinates\n",
       "t_ST                2.000000            1.500000                   2.500000\n",
       "t'_ST               1.732051            1.732051                   1.732051\n",
       "t''_ST              1.732051            1.039230                   2.886751\n",
       "t_TE                2.000000            2.500000                   1.500000\n",
       "t'_TE               1.732051            2.886751                   1.039230\n",
       "t''_TE              1.732051            1.732051                   1.732051\n",
       "t_SE                4.000000            4.000000                   4.000000\n",
       "t'_SE               3.464102            4.618802                   2.771281\n",
       "t''_SE              3.464102            2.771281                   4.618802\n",
       "tau_SE              3.464102            3.464102                   3.464102"
      ]
     },
     "execution_count": 13,
     "metadata": {},
     "output_type": "execute_result"
    }
   ],
   "source": [
    "times"
   ]
  }
 ],
 "metadata": {
  "kernelspec": {
   "display_name": "base",
   "language": "python",
   "name": "python3"
  },
  "language_info": {
   "codemirror_mode": {
    "name": "ipython",
    "version": 3
   },
   "file_extension": ".py",
   "mimetype": "text/x-python",
   "name": "python",
   "nbconvert_exporter": "python",
   "pygments_lexer": "ipython3",
   "version": "3.10.9"
  }
 },
 "nbformat": 4,
 "nbformat_minor": 2
}
